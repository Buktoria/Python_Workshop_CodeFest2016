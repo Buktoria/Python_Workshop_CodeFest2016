{
 "cells": [
  {
   "cell_type": "markdown",
   "metadata": {},
   "source": [
    "# CodeFest 2016 Python Workshop"
   ]
  },
  {
   "cell_type": "markdown",
   "metadata": {},
   "source": [
    "Hi everyone. This is a beginer workshop to python. Have a background in programming would be extermely helpful but is not nessisary. We will be speeding through basic python syntax, and end with an introduction to object orianted design.\n",
    "\n",
    "### Concepts\n",
    "- Variables (how to use them)\n",
    "- List\n",
    "- Dictionaries\n",
    "- If Statements\n",
    "- Loops (for and while)\n",
    "- Classes (object creation)\n",
    "- Chat Client\n",
    "\n",
    "### Requirements\n",
    "Please have the following intalled for this workshop\n",
    "- python3.5\n",
    "- jupyter"
   ]
  },
  {
   "cell_type": "markdown",
   "metadata": {},
   "source": [
    "# Variables"
   ]
  },
  {
   "cell_type": "markdown",
   "metadata": {},
   "source": [
    "Variable are the fundamental parts of programming. Think back to grage school and highschool math class where we used varaibles hold particular values in a equation. Its the same in python. \n",
    "\n",
    "Say Vicky and Kevin are trying to figure out how much money they have bettween eachother. These will in intgers that we will add together."
   ]
  },
  {
   "cell_type": "code",
   "execution_count": 11,
   "metadata": {
    "collapsed": false
   },
   "outputs": [
    {
     "name": "stdout",
     "output_type": "stream",
     "text": [
      "7\n"
     ]
    }
   ],
   "source": [
    "vicky = 2\n",
    "kevin = 5\n",
    "total = vicky + kevin\n",
    "print(total)"
   ]
  },
  {
   "cell_type": "markdown",
   "metadata": {},
   "source": [
    "This is variable assignment in python. You simply take a name and use `=` to assignment it to a value. A value could be anything. Let try to work with strings. Strings are defined in a pair of quotations `' '`"
   ]
  },
  {
   "cell_type": "code",
   "execution_count": 6,
   "metadata": {
    "collapsed": true
   },
   "outputs": [
    {
     "name": "stdout",
     "output_type": "stream",
     "text": [
      "I only have two apples.\n",
      "I have 10 bananas.\n"
     ]
    }
   ],
   "source": [
    "apple = 'I only have two apples.'\n",
    "banana = 'I have 10 bananas.'\n",
    "print(apple)\n",
    "print(banana)"
   ]
  },
  {
   "cell_type": "markdown",
   "metadata": {},
   "source": [
    "What other operations do you think I can do with varables? Well I can do almost anything I want! I can add, by using `+`, subtract `-`, multiple `*`, divide `/`, and so much more. Adding strings together like below if called concatenation."
   ]
  },
  {
   "cell_type": "code",
   "execution_count": 7,
   "metadata": {
    "collapsed": true
   },
   "outputs": [
    {
     "data": {
      "text/plain": [
       "'I only have two apples.I have 10 bananas.'"
      ]
     },
     "execution_count": 7,
     "metadata": {},
     "output_type": "execute_result"
    }
   ],
   "source": [
    "apple + banana"
   ]
  },
  {
   "cell_type": "code",
   "execution_count": null,
   "metadata": {
    "collapsed": true
   },
   "outputs": [],
   "source": [
    "apple * vicky"
   ]
  },
  {
   "cell_type": "markdown",
   "metadata": {},
   "source": [
    "### Exercise 1: \n",
    "Write some code that assigns your name and age to two different varaibles and prints them out in a sentance to say something like 'Hey, my name is Vicky and I'm 21 years old'"
   ]
  },
  {
   "cell_type": "code",
   "execution_count": null,
   "metadata": {
    "collapsed": true
   },
   "outputs": [],
   "source": []
  },
  {
   "cell_type": "markdown",
   "metadata": {},
   "source": [
    "---\n",
    "\n",
    "So we now know strings and intagers, but there are other types of varaibles. The next one I'm going to show you are lists.\n",
    "## Lists\n",
    "If your familiary with arrays, lists are arrays in python. A list is an object that can hold many items in squence.\n",
    "For example:"
   ]
  },
  {
   "cell_type": "code",
   "execution_count": 2,
   "metadata": {
    "collapsed": true
   },
   "outputs": [
    {
     "name": "stdout",
     "output_type": "stream",
     "text": [
      "['apple', 'banana', 'cactus']\n"
     ]
    }
   ],
   "source": [
    "a = 'apple'\n",
    "b = 'banana'\n",
    "c = 'cactus'\n",
    "my_list = [a, b, c]\n",
    "print(my_list)"
   ]
  },
  {
   "cell_type": "markdown",
   "metadata": {},
   "source": [
    "Now we have a single varaible thats hold three other variales. But what if I want to get the first item in the list? Well we can index lists."
   ]
  },
  {
   "cell_type": "code",
   "execution_count": 3,
   "metadata": {
    "collapsed": true
   },
   "outputs": [
    {
     "data": {
      "text/plain": [
       "'apple'"
      ]
     },
     "execution_count": 3,
     "metadata": {},
     "output_type": "execute_result"
    }
   ],
   "source": [
    "my_list[0]"
   ]
  },
  {
   "cell_type": "markdown",
   "metadata": {},
   "source": [
    "Now you maybe be wondering why does `0` give us the first item, not `1`? Well think of it as we are saying we want an item in the list what offset by a particular ammount. So the first item has no offset, the second we skip one, etc.\n",
    "\n",
    "Wondering what else you can index? What about strings!"
   ]
  },
  {
   "cell_type": "code",
   "execution_count": 6,
   "metadata": {
    "collapsed": true
   },
   "outputs": [
    {
     "name": "stdout",
     "output_type": "stream",
     "text": [
      "a\n",
      "p\n",
      "e\n"
     ]
    }
   ],
   "source": [
    "print(a[0])\n",
    "print(a[1])\n",
    "print(a[4])"
   ]
  },
  {
   "cell_type": "markdown",
   "metadata": {},
   "source": [
    "---\n",
    "### Exercise 2:\n",
    "Create a string of your name by contatinating indexs of the varables below."
   ]
  },
  {
   "cell_type": "code",
   "execution_count": null,
   "metadata": {
    "collapsed": true
   },
   "outputs": [],
   "source": [
    "alphabet = 'abcdefghijklmnopqrstuvwxyz'\n",
    "ALPHABET = 'ABCDEFGHIJKLMNOPQRSTUVWXYZ'\n",
    "your_name =\n",
    "print(your_name)"
   ]
  },
  {
   "cell_type": "markdown",
   "metadata": {},
   "source": [
    "---\n",
    "## Dictionaries (Hashmaps)\n",
    "If you have ever used hashmaps, dictionaries are the python version. Dictionaries take a key and map them to a particular value. Think of it has indexing but with a string instead of a number. The notation for dictionaries are as follows,\n",
    "- dictionarie are contained with `{}`\n",
    "- keys are defined as a string followed by `:`\n",
    "- after the colon come the value it maaps to\n",
    "\n",
    "Think about how an actualy dictionary works where you have a word the corrisponds it its definision. "
   ]
  },
  {
   "cell_type": "code",
   "execution_count": 8,
   "metadata": {
    "collapsed": true
   },
   "outputs": [
    {
     "name": "stdout",
     "output_type": "stream",
     "text": [
      "(of a person or their actions) criminal; villainous.\n",
      "an unusual and exciting, typically hazardous, experience or activity.\n",
      "1\n"
     ]
    }
   ],
   "source": [
    "my_dictionary = {'adventure': 'an unusual and exciting, typically hazardous, experience or activity.',\n",
    "                 'flagitious': '(of a person or their actions) criminal; villainous.',\n",
    "                 'one': 1,\n",
    "                }\n",
    "print(my_dictionary['flagitious'])\n",
    "print(my_dictionary['adventure'])\n",
    "print(my_dictionary['one'])"
   ]
  },
  {
   "cell_type": "markdown",
   "metadata": {},
   "source": [
    "You can also assign a varaibles to be the values of these keys."
   ]
  },
  {
   "cell_type": "code",
   "execution_count": 10,
   "metadata": {
    "collapsed": true
   },
   "outputs": [
    {
     "data": {
      "text/plain": [
       "{'value1': 'apple', 'value2': 'banana', 'value3': 13}"
      ]
     },
     "execution_count": 10,
     "metadata": {},
     "output_type": "execute_result"
    }
   ],
   "source": [
    "a = 'apple'\n",
    "b = 'banana'\n",
    "c = 13\n",
    "{'value1': a, 'value2':b, 'value3':c}"
   ]
  },
  {
   "cell_type": "markdown",
   "metadata": {},
   "source": [
    "---\n",
    "### Exercise 3:\n",
    "Create a dictionary with the keys 'first_name', 'last_name', 'nickname', 'age', 'area_of_study', with their correspoding values about yourself. Then create a string concatenating elements of from the dictionary to say \"My name of {first_name} {last_name}, but you can call me {nickname}. I am {age} years old and studying {area_of_study}\""
   ]
  },
  {
   "cell_type": "code",
   "execution_count": null,
   "metadata": {
    "collapsed": true
   },
   "outputs": [],
   "source": []
  },
  {
   "cell_type": "markdown",
   "metadata": {},
   "source": [
    "---\n",
    "## If Statemesnts (Conditions)\n",
    "Conditions allow us to make discusions within your program. In a particular situation we may want to take a differnt action. Python uses boolean valeus to evaluate conditions."
   ]
  },
  {
   "cell_type": "code",
   "execution_count": null,
   "metadata": {
    "collapsed": true
   },
   "outputs": [],
   "source": [
    "x = 2\n",
    "print(x == 2)\n",
    "print(x == 3)\n",
    "print(x < 3)"
   ]
  },
  {
   "cell_type": "markdown",
   "metadata": {},
   "source": [
    "`if` statements in python let us do just that. Run the code to see what happens. Then try to change the value of `a` and see what happens."
   ]
  },
  {
   "cell_type": "code",
   "execution_count": 13,
   "metadata": {
    "collapsed": false
   },
   "outputs": [
    {
     "name": "stdout",
     "output_type": "stream",
     "text": [
      "I love apples!\n"
     ]
    }
   ],
   "source": [
    "a = 'apple'\n",
    "if a == 'apple':\n",
    "    print('I love apples!')\n",
    "elif a == 'banana':\n",
    "    print('I love bananas!')\n",
    "else:\n",
    "    print('I do not like ' + a)\n",
    "    "
   ]
  },
  {
   "cell_type": "markdown",
   "metadata": {},
   "source": [
    "---\n",
    "### Exercise 4:\n",
    "Write a statement that will take two strings. If the first element of the string is a vowel it will print a `vowel`, otherwise `consonant`."
   ]
  },
  {
   "cell_type": "code",
   "execution_count": null,
   "metadata": {
    "collapsed": true
   },
   "outputs": [],
   "source": []
  },
  {
   "cell_type": "markdown",
   "metadata": {},
   "source": [
    "---\n",
    "## Loops"
   ]
  }
 ],
 "metadata": {
  "kernelspec": {
   "display_name": "Python 3",
   "language": "python",
   "name": "python3"
  },
  "language_info": {
   "codemirror_mode": {
    "name": "ipython",
    "version": 3
   },
   "file_extension": ".py",
   "mimetype": "text/x-python",
   "name": "python",
   "nbconvert_exporter": "python",
   "pygments_lexer": "ipython3",
   "version": "3.5.0"
  }
 },
 "nbformat": 4,
 "nbformat_minor": 0
}
